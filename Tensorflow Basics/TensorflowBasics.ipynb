{
 "cells": [
  {
   "cell_type": "code",
   "execution_count": 1,
   "metadata": {
    "collapsed": true
   },
   "outputs": [],
   "source": [
    "from __future__ import absolute_import\n",
    "from __future__ import print_function\n",
    "from __future__ import division"
   ]
  },
  {
   "cell_type": "code",
   "execution_count": 5,
   "metadata": {
    "collapsed": true
   },
   "outputs": [],
   "source": [
    "# import libraries\n",
    "import tensorflow as tf\n",
    "import numpy as np"
   ]
  },
  {
   "cell_type": "markdown",
   "metadata": {},
   "source": [
    "### Constants"
   ]
  },
  {
   "cell_type": "code",
   "execution_count": 6,
   "metadata": {
    "collapsed": true
   },
   "outputs": [],
   "source": [
    "# create a constant with value 32\n",
    "c1 = tf.constant(value = 32, dtype= tf.float32, name = 'a')\n",
    "\n",
    "# create a constant with value 20\n",
    "c2 = tf.constant(value= 20, dtype=tf.float32, name = 'b')"
   ]
  },
  {
   "cell_type": "code",
   "execution_count": 8,
   "metadata": {
    "collapsed": true
   },
   "outputs": [],
   "source": [
    "#create a constant array of normally distributed numbers\n",
    "c3 = tf.random_normal(dtype= tf.float32, shape= [10])\n",
    "\n",
    "# create a constant array of 20 zeros\n",
    "c4 = tf.zeros(dtype= tf.float32, shape= [20])\n",
    "\n",
    "# create a constant array from list\n",
    "c5 = tf.convert_to_tensor(value=[1, 2, 3, 4, 5], dtype= tf.float32)\n",
    "\n",
    "# tf.constant can directly take list as an input\n",
    "c6 = tf.constant([[1,2], [3,2], [4,8]], dtype= tf.float32)\n",
    "\n",
    "#shuffle a constant\n",
    "c7 = tf.random_shuffle(c6)"
   ]
  },
  {
   "cell_type": "markdown",
   "metadata": {},
   "source": [
    "All of these constant tensors are part of computation graph. You can not get value of any one of these unless you start a tensorflow session. What is session? We will get to it. Here none of these is related to anyone. So, basically they all are different nodes, without any relation between them."
   ]
  },
  {
   "cell_type": "markdown",
   "metadata": {},
   "source": [
    "### Variables"
   ]
  },
  {
   "cell_type": "code",
   "execution_count": 19,
   "metadata": {
    "collapsed": false
   },
   "outputs": [],
   "source": [
    "# variable 1 with initial value 100\n",
    "v1 = tf.Variable(initial_value=[100], name = 'v1')\n",
    "\n",
    "# variable 2 with initial value initialized by a constant\n",
    "v2 = tf.Variable(initial_value= tf.constant(value= [100]), name = 'v2')\n",
    "\n",
    "# variable 3 with initial value initialized by a constant\n",
    "v3 = tf.Variable(initial_value= tf.random_normal(shape= [100 , 4], mean= 0.0, stddev= 1), name = 'v3')\n",
    "\n",
    "# Create a variable v4 with same initial values as v3\n",
    "v4 = tf.Variable(v3.initialized_value())"
   ]
  },
  {
   "cell_type": "markdown",
   "metadata": {},
   "source": [
    "Let's see what v3.initialized_value() gives"
   ]
  },
  {
   "cell_type": "code",
   "execution_count": 22,
   "metadata": {
    "collapsed": false
   },
   "outputs": [
    {
     "name": "stdout",
     "output_type": "stream",
     "text": [
      "Tensor(\"cond_6/Merge:0\", shape=(100, 4), dtype=float32) Tensor(\"cond_7/Merge:0\", shape=(100, 4), dtype=float32)\n"
     ]
    }
   ],
   "source": [
    "print(v3.initialized_value(), v4.initialized_value())"
   ]
  },
  {
   "cell_type": "markdown",
   "metadata": {},
   "source": [
    "Again you can not see the initial value until you start a session."
   ]
  },
  {
   "cell_type": "markdown",
   "metadata": {},
   "source": [
    "### Placeholders"
   ]
  },
  {
   "cell_type": "code",
   "execution_count": 25,
   "metadata": {
    "collapsed": false
   },
   "outputs": [
    {
     "data": {
      "text/plain": [
       "<tf.Variable 'Variable_6:0' shape=(2,) dtype=int32_ref>"
      ]
     },
     "execution_count": 25,
     "metadata": {},
     "output_type": "execute_result"
    }
   ],
   "source": [
    "# For example lets say you have MNIST data\n",
    "# MNIST digits are 28*28 pixels, so you need to specify this \n",
    "#dimension in placeholder.\n",
    "#Here shape = [None, 28*28], where None can take any value.\n",
    "ph1 = tf.placeholder(dtype= tf.float32, shape= [None, 28*28])"
   ]
  },
  {
   "cell_type": "markdown",
   "metadata": {},
   "source": [
    "### Operations"
   ]
  },
  {
   "cell_type": "code",
   "execution_count": 26,
   "metadata": {
    "collapsed": true
   },
   "outputs": [],
   "source": [
    "# multiply c1 and c2\n",
    "o1 = tf.multiply(c1, c2)\n",
    "\n",
    "# add c1 and c2\n",
    "o2 = tf.add(c1, c2)"
   ]
  },
  {
   "cell_type": "code",
   "execution_count": 27,
   "metadata": {
    "collapsed": true
   },
   "outputs": [],
   "source": [
    "# Transpose v3\n",
    "o3 = tf.transpose(v3)\n",
    "\n",
    "# sum of elements of v3\n",
    "o4 =tf.reduce_sum(v3)"
   ]
  },
  {
   "cell_type": "markdown",
   "metadata": {},
   "source": [
    "## Session"
   ]
  },
  {
   "cell_type": "code",
   "execution_count": 28,
   "metadata": {
    "collapsed": true
   },
   "outputs": [],
   "source": [
    "# Start a session\n",
    "sess = tf.Session()"
   ]
  },
  {
   "cell_type": "code",
   "execution_count": 31,
   "metadata": {
    "collapsed": false
   },
   "outputs": [
    {
     "name": "stdout",
     "output_type": "stream",
     "text": [
      "640.0 52.0\n"
     ]
    }
   ],
   "source": [
    "# We can evaludate o1 and o2\n",
    "\n",
    "print(sess.run(o1), sess.run(o2))"
   ]
  },
  {
   "cell_type": "code",
   "execution_count": 32,
   "metadata": {
    "collapsed": false
   },
   "outputs": [],
   "source": [
    "# We need to initialize all the variables defined\n",
    "# before evaluating operations which contain variables\n",
    "sess.run(tf.global_variables_initializer())"
   ]
  },
  {
   "cell_type": "code",
   "execution_count": 34,
   "metadata": {
    "collapsed": false
   },
   "outputs": [
    {
     "name": "stdout",
     "output_type": "stream",
     "text": [
      "25.8148\n"
     ]
    }
   ],
   "source": [
    "# Now we can evaluate operation on variables\n",
    "print(sess.run(o4))"
   ]
  },
  {
   "cell_type": "code",
   "execution_count": null,
   "metadata": {
    "collapsed": true
   },
   "outputs": [],
   "source": []
  }
 ],
 "metadata": {
  "anaconda-cloud": {},
  "kernelspec": {
   "display_name": "Python 3",
   "language": "python",
   "name": "python3"
  },
  "language_info": {
   "codemirror_mode": {
    "name": "ipython",
    "version": 3
   },
   "file_extension": ".py",
   "mimetype": "text/x-python",
   "name": "python",
   "nbconvert_exporter": "python",
   "pygments_lexer": "ipython3",
   "version": "3.5.2"
  }
 },
 "nbformat": 4,
 "nbformat_minor": 1
}
