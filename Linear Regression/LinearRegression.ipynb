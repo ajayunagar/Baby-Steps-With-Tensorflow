{
 "cells": [
  {
   "cell_type": "code",
   "execution_count": 1,
   "metadata": {
    "collapsed": true
   },
   "outputs": [],
   "source": [
    "# __future__ imports\n",
    "from __future__ import absolute_import\n",
    "from __future__ import print_function\n",
    "from __future__ import division"
   ]
  },
  {
   "cell_type": "code",
   "execution_count": 2,
   "metadata": {
    "collapsed": true
   },
   "outputs": [],
   "source": [
    "# We will be using mostly these two libraries.\n",
    "import numpy as np\n",
    "import tensorflow as tf"
   ]
  },
  {
   "cell_type": "code",
   "execution_count": 4,
   "metadata": {
    "collapsed": true
   },
   "outputs": [],
   "source": [
    "# Generate X_data of shape [1000, 4]\n",
    "X_data = np.random.normal(loc=10, scale=10, size=(1000,4))"
   ]
  },
  {
   "cell_type": "code",
   "execution_count": 5,
   "metadata": {
    "collapsed": false
   },
   "outputs": [],
   "source": [
    "# Create Y_data dependent on X_data\n",
    "Y_data = 0.5 * X_data[:, 0] - 52 * X_data[:, 1] +12*X_data[:, 2] - X_data[:, 3]"
   ]
  },
  {
   "cell_type": "code",
   "execution_count": 6,
   "metadata": {
    "collapsed": true
   },
   "outputs": [],
   "source": [
    "# This step is required to make Y_data of shape [1000, 1]\n",
    "Y_data = Y_data.reshape(-1,1)"
   ]
  },
  {
   "cell_type": "code",
   "execution_count": 8,
   "metadata": {
    "collapsed": false
   },
   "outputs": [],
   "source": [
    "# Tensorflow placeholders to feed the data in the network\n",
    "x = tf.placeholder(tf.float32, shape=[None, 4])\n",
    "y = tf.placeholder(tf.float32, shape = [None,1])"
   ]
  },
  {
   "cell_type": "code",
   "execution_count": 9,
   "metadata": {
    "collapsed": true
   },
   "outputs": [],
   "source": [
    "# Tensorflow Variables to hold the weights and biases\n",
    "W = tf.Variable(tf.random_normal([4,1]), name=\"Weight\")\n",
    "b = tf.Variable(tf.random_normal([1,1]), name=\"Intercept\")"
   ]
  },
  {
   "cell_type": "code",
   "execution_count": 11,
   "metadata": {
    "collapsed": false
   },
   "outputs": [],
   "source": [
    "# Generating our hypothesis\n",
    "# For more details on tf.matmul please visit https://www.tensorflow.org/api_docs/python/tf/matmul\n",
    "hypothesis = tf.matmul(x, W) + b"
   ]
  },
  {
   "cell_type": "code",
   "execution_count": 12,
   "metadata": {
    "collapsed": false
   },
   "outputs": [],
   "source": [
    "# Define a loss function\n",
    "# We used mean of squared error function\n",
    "Loss = tf.reduce_mean(tf.square(y - hypothesis))"
   ]
  },
  {
   "cell_type": "code",
   "execution_count": 13,
   "metadata": {
    "collapsed": true
   },
   "outputs": [],
   "source": [
    "# Define an Optimizer and use it to minimize the Loss\n",
    "optimizer = tf.train.GradientDescentOptimizer(learning_rate= 0.0001)\n",
    "train = optimizer.minimize(Loss)"
   ]
  },
  {
   "cell_type": "code",
   "execution_count": 14,
   "metadata": {
    "collapsed": true
   },
   "outputs": [],
   "source": [
    "# Start Tensorflow session\n",
    "sess = tf.Session()"
   ]
  },
  {
   "cell_type": "code",
   "execution_count": 51,
   "metadata": {
    "collapsed": false
   },
   "outputs": [],
   "source": [
    "\n",
    "sess.run(tf.global_variables_initializer())"
   ]
  },
  {
   "cell_type": "code",
   "execution_count": 52,
   "metadata": {
    "collapsed": false
   },
   "outputs": [
    {
     "name": "stdout",
     "output_type": "stream",
     "text": [
      "0 418058.0 [[-1.55593419]\n",
      " [-3.58578587]\n",
      " [-1.15564585]\n",
      " [ 0.16283125]] [[ 0.6263715]]\n",
      "1000 0.000229601 [[  0.50070697]\n",
      " [-51.99924469]\n",
      " [ 12.00064659]\n",
      " [ -0.99932683]] [[-0.03484353]]\n",
      "2000 0.000213062 [[  0.50067437]\n",
      " [-51.99927902]\n",
      " [ 12.00064659]\n",
      " [ -0.99935728]] [[-0.03359063]]\n",
      "3000 0.000198256 [[  0.50064749]\n",
      " [-51.99930191]\n",
      " [ 12.00063133]\n",
      " [ -0.99938291]] [[-0.03239238]]\n",
      "4000 0.00018449 [[  0.500624  ]\n",
      " [-51.9993248 ]\n",
      " [ 12.0006094 ]\n",
      " [ -0.99940586]] [[-0.03123896]]\n",
      "5000 0.000171579 [[  0.50060165]\n",
      " [-51.99934769]\n",
      " [ 12.00058746]\n",
      " [ -0.9994272 ]] [[-0.03012807]]\n",
      "6000 0.000159689 [[  0.50057864]\n",
      " [-51.99936676]\n",
      " [ 12.00056648]\n",
      " [ -0.99944973]] [[-0.02905842]]\n",
      "7000 0.00014854 [[  0.50055778]\n",
      " [-51.99938583]\n",
      " [ 12.0005455 ]\n",
      " [ -0.99947011]] [[-0.02802833]]\n",
      "8000 0.000138389 [[  0.50053746]\n",
      " [-51.99940491]\n",
      " [ 12.00052547]\n",
      " [ -0.99948978]] [[-0.0270361]]\n",
      "9000 0.000128741 [[  0.50051796]\n",
      " [-51.99942398]\n",
      " [ 12.00050735]\n",
      " [ -0.99950868]] [[-0.02608051]]\n",
      "10000 0.00011979 [[  0.50049901]\n",
      " [-51.99944305]\n",
      " [ 12.00049019]\n",
      " [ -0.9995271 ]] [[-0.02516016]]\n",
      "11000 0.000111621 [[  0.50048059]\n",
      " [-51.99945831]\n",
      " [ 12.00047207]\n",
      " [ -0.99954486]] [[-0.02427404]]\n",
      "12000 0.00010394 [[  0.50046384]\n",
      " [-51.99947739]\n",
      " [ 12.00045586]\n",
      " [ -0.99956107]] [[-0.02342054]]\n",
      "13000 9.68235e-05 [[  0.50044656]\n",
      " [-51.99949265]\n",
      " [ 12.00043964]\n",
      " [ -0.99957788]] [[-0.02259891]]\n",
      "14000 9.01811e-05 [[  0.50043017]\n",
      " [-51.9995079 ]\n",
      " [ 12.00042439]\n",
      " [ -0.99959338]] [[-0.02180756]]\n",
      "15000 8.40999e-05 [[  0.50041479]\n",
      " [-51.99952316]\n",
      " [ 12.00040913]\n",
      " [ -0.99960822]] [[-0.02104535]]\n",
      "16000 7.83576e-05 [[  0.50039983]\n",
      " [-51.99953842]\n",
      " [ 12.00039387]\n",
      " [ -0.99962324]] [[-0.02031149]]\n",
      "17000 7.29564e-05 [[  0.50038511]\n",
      " [-51.99954987]\n",
      " [ 12.00038052]\n",
      " [ -0.99963737]] [[-0.01960487]]\n",
      "18000 6.80406e-05 [[  0.50037128]\n",
      " [-51.99956512]\n",
      " [ 12.00036716]\n",
      " [ -0.99965072]] [[-0.01892416]]\n",
      "19000 6.34386e-05 [[  0.50035793]\n",
      " [-51.99957657]\n",
      " [ 12.00035477]\n",
      " [ -0.99966389]] [[-0.01826856]]\n",
      "20000 5.92276e-05 [[  0.50034463]\n",
      " [-51.99958801]\n",
      " [ 12.00034237]\n",
      " [ -0.99967641]] [[-0.0176374]]\n"
     ]
    }
   ],
   "source": [
    "for epochs in range(20001):\n",
    "    cost_val, hy_val, W_val, b_val, _ = sess.run([Loss, hypothesis, W, b, train],\\\n",
    "                                                feed_dict = {x:X_data, y:Y_data})\n",
    "    \n",
    "    if epochs % 1000 == 0:\n",
    "        print(epochs, cost_val, W_val, b_val)"
   ]
  },
  {
   "cell_type": "code",
   "execution_count": null,
   "metadata": {
    "collapsed": true
   },
   "outputs": [],
   "source": []
  }
 ],
 "metadata": {
  "anaconda-cloud": {},
  "kernelspec": {
   "display_name": "Python 3",
   "language": "python",
   "name": "python3"
  },
  "language_info": {
   "codemirror_mode": {
    "name": "ipython",
    "version": 3
   },
   "file_extension": ".py",
   "mimetype": "text/x-python",
   "name": "python",
   "nbconvert_exporter": "python",
   "pygments_lexer": "ipython3",
   "version": "3.5.2"
  }
 },
 "nbformat": 4,
 "nbformat_minor": 1
}
